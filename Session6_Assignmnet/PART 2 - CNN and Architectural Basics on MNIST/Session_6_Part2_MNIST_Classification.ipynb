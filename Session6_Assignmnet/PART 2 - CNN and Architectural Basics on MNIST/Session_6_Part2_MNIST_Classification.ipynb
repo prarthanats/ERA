{
 "cells": [
  {
   "cell_type": "code",
   "execution_count": 1,
   "metadata": {
    "colab": {
     "base_uri": "https://localhost:8080/"
    },
    "id": "0zd1oKzO_Qq8",
    "outputId": "97877c66-afc9-4ad6-eb60-be6e7628d658"
   },
   "outputs": [
    {
     "name": "stdout",
     "output_type": "stream",
     "text": [
      "Looking in indexes: https://pypi.org/simple, https://us-python.pkg.dev/colab-wheels/public/simple/\n",
      "Requirement already satisfied: torchsummary in /usr/local/lib/python3.10/dist-packages (1.5.1)\n"
     ]
    }
   ],
   "source": [
    "from __future__ import print_function\n",
    "import torch\n",
    "import torch.optim as optim\n",
    "from model import Net, model_summary, train, test\n",
    "from utils import data_loader\n",
    "!pip install torchsummary"
   ]
  },
  {
   "cell_type": "code",
   "execution_count": 2,
   "metadata": {
    "id": "WpubyF5Y_vym"
   },
   "outputs": [],
   "source": [
    "#Torch is used to specify the device. Device needs to be specified, if the gpu is available, training and testing will be done on gpu\n",
    "use_cuda = torch.cuda.is_available()\n",
    "device = torch.device(\"cuda\" if use_cuda else \"cpu\")\n",
    "model = Net().to(device)"
   ]
  },
  {
   "cell_type": "code",
   "execution_count": 3,
   "metadata": {
    "colab": {
     "base_uri": "https://localhost:8080/"
    },
    "id": "XFPO1XdwAGbg",
    "outputId": "45d369d2-a2be-469a-f49f-6ccdc55932d4"
   },
   "outputs": [
    {
     "name": "stdout",
     "output_type": "stream",
     "text": [
      "----------------------------------------------------------------\n",
      "        Layer (type)               Output Shape         Param #\n",
      "================================================================\n",
      "            Conv2d-1            [-1, 8, 26, 26]              80\n",
      "       BatchNorm2d-2            [-1, 8, 26, 26]              16\n",
      "            Conv2d-3           [-1, 16, 24, 24]           1,168\n",
      "       BatchNorm2d-4           [-1, 16, 24, 24]              32\n",
      "            Conv2d-5           [-1, 32, 22, 22]           4,640\n",
      "       BatchNorm2d-6           [-1, 32, 22, 22]              64\n",
      "           Dropout-7           [-1, 32, 22, 22]               0\n",
      "         MaxPool2d-8           [-1, 32, 11, 11]               0\n",
      "            Conv2d-9            [-1, 8, 11, 11]             264\n",
      "      BatchNorm2d-10            [-1, 8, 11, 11]              16\n",
      "           Conv2d-11             [-1, 16, 9, 9]           1,168\n",
      "      BatchNorm2d-12             [-1, 16, 9, 9]              32\n",
      "          Dropout-13             [-1, 16, 9, 9]               0\n",
      "           Conv2d-14             [-1, 32, 7, 7]           4,640\n",
      "      BatchNorm2d-15             [-1, 32, 7, 7]              64\n",
      "        AvgPool2d-16             [-1, 32, 3, 3]               0\n",
      "           Conv2d-17             [-1, 10, 1, 1]           2,890\n",
      "================================================================\n",
      "Total params: 15,074\n",
      "Trainable params: 15,074\n",
      "Non-trainable params: 0\n",
      "----------------------------------------------------------------\n",
      "Input size (MB): 0.00\n",
      "Forward/backward pass size (MB): 0.68\n",
      "Params size (MB): 0.06\n",
      "Estimated Total Size (MB): 0.74\n",
      "----------------------------------------------------------------\n"
     ]
    },
    {
     "name": "stderr",
     "output_type": "stream",
     "text": [
      "/content/model.py:50: UserWarning: Implicit dimension choice for log_softmax has been deprecated. Change the call to include dim=X as an argument.\n",
      "  return F.log_softmax(x)\n"
     ]
    }
   ],
   "source": [
    "model_summary(model, (1, 28, 28))"
   ]
  },
  {
   "cell_type": "code",
   "execution_count": 4,
   "metadata": {
    "id": "u-TzA6y-AJEG"
   },
   "outputs": [],
   "source": [
    "torch.manual_seed(1)\n",
    "batch_size = 32\n",
    "\n",
    "kwargs = {'num_workers': 1, 'pin_memory': True} if use_cuda else {}\n",
    "train_loader, test_loader = data_loader(batch_size, kwargs)\n"
   ]
  },
  {
   "cell_type": "code",
   "execution_count": 5,
   "metadata": {
    "id": "QACrEEIGALMX"
   },
   "outputs": [],
   "source": [
    "model = Net().to(device)\n",
    "optimizer = optim.SGD(model.parameters(), lr=0.01, momentum=0.9)"
   ]
  },
  {
   "cell_type": "code",
   "execution_count": 6,
   "metadata": {
    "colab": {
     "base_uri": "https://localhost:8080/"
    },
    "id": "ojghzrHbAKUf",
    "outputId": "ae9cfae0-cdab-461f-e4ef-c4f36f49a3f9"
   },
   "outputs": [
    {
     "name": "stdout",
     "output_type": "stream",
     "text": [
      "Epoch- 1\n"
     ]
    },
    {
     "name": "stderr",
     "output_type": "stream",
     "text": [
      "loss=0.0070433057844638824 batch_id=1874: 100%|██████████| 1875/1875 [00:31<00:00, 58.99it/s]\n"
     ]
    },
    {
     "name": "stdout",
     "output_type": "stream",
     "text": [
      "\n",
      "Test set: Average loss: 0.0420, Accuracy: 9877/10000 (98.77%)\n",
      "\n",
      "Epoch- 2\n"
     ]
    },
    {
     "name": "stderr",
     "output_type": "stream",
     "text": [
      "loss=0.03878837451338768 batch_id=1874: 100%|██████████| 1875/1875 [00:29<00:00, 62.95it/s]\n"
     ]
    },
    {
     "name": "stdout",
     "output_type": "stream",
     "text": [
      "\n",
      "Test set: Average loss: 0.0373, Accuracy: 9882/10000 (98.82%)\n",
      "\n",
      "Epoch- 3\n"
     ]
    },
    {
     "name": "stderr",
     "output_type": "stream",
     "text": [
      "loss=0.015916306525468826 batch_id=1874: 100%|██████████| 1875/1875 [00:31<00:00, 60.25it/s]\n"
     ]
    },
    {
     "name": "stdout",
     "output_type": "stream",
     "text": [
      "\n",
      "Test set: Average loss: 0.0246, Accuracy: 9922/10000 (99.22%)\n",
      "\n",
      "Epoch- 4\n"
     ]
    },
    {
     "name": "stderr",
     "output_type": "stream",
     "text": [
      "loss=0.006971302442252636 batch_id=1874: 100%|██████████| 1875/1875 [00:30<00:00, 62.24it/s]\n"
     ]
    },
    {
     "name": "stdout",
     "output_type": "stream",
     "text": [
      "\n",
      "Test set: Average loss: 0.0298, Accuracy: 9906/10000 (99.06%)\n",
      "\n",
      "Epoch- 5\n"
     ]
    },
    {
     "name": "stderr",
     "output_type": "stream",
     "text": [
      "loss=0.016362633556127548 batch_id=1874: 100%|██████████| 1875/1875 [00:30<00:00, 60.91it/s]\n"
     ]
    },
    {
     "name": "stdout",
     "output_type": "stream",
     "text": [
      "\n",
      "Test set: Average loss: 0.0315, Accuracy: 9894/10000 (98.94%)\n",
      "\n",
      "Epoch- 6\n"
     ]
    },
    {
     "name": "stderr",
     "output_type": "stream",
     "text": [
      "loss=0.01342654787003994 batch_id=1874: 100%|██████████| 1875/1875 [00:30<00:00, 62.20it/s]\n"
     ]
    },
    {
     "name": "stdout",
     "output_type": "stream",
     "text": [
      "\n",
      "Test set: Average loss: 0.0232, Accuracy: 9928/10000 (99.28%)\n",
      "\n",
      "Epoch- 7\n"
     ]
    },
    {
     "name": "stderr",
     "output_type": "stream",
     "text": [
      "loss=0.0027369281742721796 batch_id=1874: 100%|██████████| 1875/1875 [00:29<00:00, 63.42it/s]\n"
     ]
    },
    {
     "name": "stdout",
     "output_type": "stream",
     "text": [
      "\n",
      "Test set: Average loss: 0.0260, Accuracy: 9915/10000 (99.15%)\n",
      "\n",
      "Epoch- 8\n"
     ]
    },
    {
     "name": "stderr",
     "output_type": "stream",
     "text": [
      "loss=0.023193474858999252 batch_id=1874: 100%|██████████| 1875/1875 [00:32<00:00, 57.66it/s]\n"
     ]
    },
    {
     "name": "stdout",
     "output_type": "stream",
     "text": [
      "\n",
      "Test set: Average loss: 0.0210, Accuracy: 9926/10000 (99.26%)\n",
      "\n",
      "Epoch- 9\n"
     ]
    },
    {
     "name": "stderr",
     "output_type": "stream",
     "text": [
      "loss=0.016200661659240723 batch_id=1874: 100%|██████████| 1875/1875 [00:30<00:00, 60.76it/s]\n"
     ]
    },
    {
     "name": "stdout",
     "output_type": "stream",
     "text": [
      "\n",
      "Test set: Average loss: 0.0272, Accuracy: 9916/10000 (99.16%)\n",
      "\n",
      "Epoch- 10\n"
     ]
    },
    {
     "name": "stderr",
     "output_type": "stream",
     "text": [
      "loss=0.002076950389891863 batch_id=1874: 100%|██████████| 1875/1875 [00:30<00:00, 60.69it/s]\n"
     ]
    },
    {
     "name": "stdout",
     "output_type": "stream",
     "text": [
      "\n",
      "Test set: Average loss: 0.0235, Accuracy: 9923/10000 (99.23%)\n",
      "\n",
      "Epoch- 11\n"
     ]
    },
    {
     "name": "stderr",
     "output_type": "stream",
     "text": [
      "loss=0.010441961698234081 batch_id=1874: 100%|██████████| 1875/1875 [00:29<00:00, 62.51it/s]\n"
     ]
    },
    {
     "name": "stdout",
     "output_type": "stream",
     "text": [
      "\n",
      "Test set: Average loss: 0.0209, Accuracy: 9928/10000 (99.28%)\n",
      "\n",
      "Epoch- 12\n"
     ]
    },
    {
     "name": "stderr",
     "output_type": "stream",
     "text": [
      "loss=0.0012636142782866955 batch_id=1874: 100%|██████████| 1875/1875 [00:29<00:00, 63.50it/s]\n"
     ]
    },
    {
     "name": "stdout",
     "output_type": "stream",
     "text": [
      "\n",
      "Test set: Average loss: 0.0244, Accuracy: 9917/10000 (99.17%)\n",
      "\n",
      "Epoch- 13\n"
     ]
    },
    {
     "name": "stderr",
     "output_type": "stream",
     "text": [
      "loss=0.013601641170680523 batch_id=1874: 100%|██████████| 1875/1875 [00:29<00:00, 63.39it/s]\n"
     ]
    },
    {
     "name": "stdout",
     "output_type": "stream",
     "text": [
      "\n",
      "Test set: Average loss: 0.0203, Accuracy: 9935/10000 (99.35%)\n",
      "\n",
      "Epoch- 14\n"
     ]
    },
    {
     "name": "stderr",
     "output_type": "stream",
     "text": [
      "loss=0.0008940814295783639 batch_id=1874: 100%|██████████| 1875/1875 [00:31<00:00, 60.45it/s]\n"
     ]
    },
    {
     "name": "stdout",
     "output_type": "stream",
     "text": [
      "\n",
      "Test set: Average loss: 0.0209, Accuracy: 9934/10000 (99.34%)\n",
      "\n",
      "Epoch- 15\n"
     ]
    },
    {
     "name": "stderr",
     "output_type": "stream",
     "text": [
      "loss=0.007680193521082401 batch_id=1874: 100%|██████████| 1875/1875 [00:30<00:00, 60.56it/s]\n"
     ]
    },
    {
     "name": "stdout",
     "output_type": "stream",
     "text": [
      "\n",
      "Test set: Average loss: 0.0207, Accuracy: 9945/10000 (99.45%)\n",
      "\n",
      "Epoch- 16\n"
     ]
    },
    {
     "name": "stderr",
     "output_type": "stream",
     "text": [
      "loss=0.00034923359635286033 batch_id=1874: 100%|██████████| 1875/1875 [00:29<00:00, 62.51it/s]\n"
     ]
    },
    {
     "name": "stdout",
     "output_type": "stream",
     "text": [
      "\n",
      "Test set: Average loss: 0.0233, Accuracy: 9924/10000 (99.24%)\n",
      "\n",
      "Epoch- 17\n"
     ]
    },
    {
     "name": "stderr",
     "output_type": "stream",
     "text": [
      "loss=0.0014274275163188577 batch_id=1874: 100%|██████████| 1875/1875 [00:31<00:00, 60.42it/s]\n"
     ]
    },
    {
     "name": "stdout",
     "output_type": "stream",
     "text": [
      "\n",
      "Test set: Average loss: 0.0219, Accuracy: 9921/10000 (99.21%)\n",
      "\n",
      "Epoch- 18\n"
     ]
    },
    {
     "name": "stderr",
     "output_type": "stream",
     "text": [
      "loss=0.06570266932249069 batch_id=1874: 100%|██████████| 1875/1875 [00:30<00:00, 61.53it/s]\n"
     ]
    },
    {
     "name": "stdout",
     "output_type": "stream",
     "text": [
      "\n",
      "Test set: Average loss: 0.0219, Accuracy: 9939/10000 (99.39%)\n",
      "\n",
      "Epoch- 19\n"
     ]
    },
    {
     "name": "stderr",
     "output_type": "stream",
     "text": [
      "loss=0.0025389331858605146 batch_id=1874: 100%|██████████| 1875/1875 [00:29<00:00, 62.51it/s]\n"
     ]
    },
    {
     "name": "stdout",
     "output_type": "stream",
     "text": [
      "\n",
      "Test set: Average loss: 0.0194, Accuracy: 9938/10000 (99.38%)\n",
      "\n"
     ]
    }
   ],
   "source": [
    "for epoch in range(1, 20):\n",
    "    print(\"Epoch-\", epoch)\n",
    "    train(model, device, train_loader, optimizer, epoch)\n",
    "    test(model, device, test_loader)"
   ]
  },
  {
   "cell_type": "code",
   "execution_count": 7,
   "metadata": {
    "colab": {
     "base_uri": "https://localhost:8080/",
     "height": 1000
    },
    "id": "qP8sBg2CAOnc",
    "outputId": "b8197c7c-840b-4777-dc83-95c23a41dc09"
   },
   "outputs": [
    {
     "name": "stdout",
     "output_type": "stream",
     "text": [
      "Looking in indexes: https://pypi.org/simple, https://us-python.pkg.dev/colab-wheels/public/simple/\n",
      "Collecting torchview\n",
      "  Downloading torchview-0.2.6-py3-none-any.whl (25 kB)\n",
      "Installing collected packages: torchview\n",
      "Successfully installed torchview-0.2.6\n"
     ]
    },
    {
     "name": "stderr",
     "output_type": "stream",
     "text": [
      "/usr/local/lib/python3.10/dist-packages/torch/_tensor.py:1295: UserWarning: Implicit dimension choice for log_softmax has been deprecated. Change the call to include dim=X as an argument.\n",
      "  ret = func(*args, **kwargs)\n"
     ]
    },
    {
     "data": {
      "image/png": "[encoded data removed]",
      "text/plain": [
       "<graphviz.graphs.Digraph at 0x7f67c36735b0>"
      ]
     },
     "execution_count": 7,
     "metadata": {},
     "output_type": "execute_result"
    }
   ],
   "source": [
    "import torchvision\n",
    "!pip install torchview\n",
    "from torchview import draw_graph\n",
    "import graphviz\n",
    "graphviz.set_jupyter_format('png')\n",
    "model_graph = draw_graph(Net(), input_size=(1,1,28,28), expand_nested=False)\n",
    "model_graph.visual_graph"
   ]
  },
  {
   "cell_type": "code",
   "execution_count": null,
   "metadata": {
    "id": "nCrlPGiouzxI"
   },
   "outputs": [],
   "source": []
  }
 ],
 "metadata": {
  "accelerator": "GPU",
  "colab": {
   "gpuType": "T4",
   "provenance": []
  },
  "kernelspec": {
   "display_name": "Python 3 (ipykernel)",
   "language": "python",
   "name": "python3"
  },
  "language_info": {
   "codemirror_mode": {
    "name": "ipython",
    "version": 3
   },
   "file_extension": ".py",
   "mimetype": "text/x-python",
   "name": "python",
   "nbconvert_exporter": "python",
   "pygments_lexer": "ipython3",
   "version": "3.9.7"
  }
 },
 "nbformat": 4,
 "nbformat_minor": 1
}
